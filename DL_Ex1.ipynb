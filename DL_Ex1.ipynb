{
 "cells": [
  {
   "cell_type": "code",
   "execution_count": 1,
   "metadata": {},
   "outputs": [
    {
     "name": "stderr",
     "output_type": "stream",
     "text": [
      "Using TensorFlow backend.\n"
     ]
    }
   ],
   "source": [
    "import tensorflow as tf\n",
    "import keras as kr\n",
    "import matplotlib.pyplot as plt\n",
    "import mpld3\n",
    "import numpy as np\n",
    "import torch as tor\n",
    "from sklearn.model_selection import train_test_split\n",
    "import pandas as pd\n",
    "from keras.models import Sequential, load_model\n",
    "from keras.layers.core import Dense, Dropout, Activation"
   ]
  },
  {
   "cell_type": "code",
   "execution_count": 2,
   "metadata": {},
   "outputs": [
    {
     "name": "stdout",
     "output_type": "stream",
     "text": [
      "X_train shape (29400, 784)\n",
      "y_train shape (29400,)\n",
      "X_test shape (12600, 784)\n",
      "y_test shape (12600,)\n"
     ]
    }
   ],
   "source": [
    "dataset = pd.read_csv('C:/Users/athanasis/Desktop/Semester_B/DEEP_LEARNING/digit_recognizer_dataset.csv', sep=',')\n",
    "label = dataset.iloc[:,0]\n",
    "\n",
    "features =  dataset.iloc[:,1:]\n",
    "X_train, X_test, y_train, y_test = train_test_split(features, label, test_size=0.30)\n",
    "\n",
    "print(\"X_train shape\", X_train.shape)\n",
    "print(\"y_train shape\", y_train.shape)\n",
    "print(\"X_test shape\", X_test.shape)\n",
    "print(\"y_test shape\", y_test.shape)\n",
    "\n",
    "X_train = X_train.astype('float32')\n",
    "X_test = X_test.astype('float32')\n",
    "# normalize to range 0-1\n",
    "X_train = X_train / 255.0\n",
    "X_test = X_test / 255.0\n",
    "# return normalized images"
   ]
  },
  {
   "cell_type": "code",
   "execution_count": 3,
   "metadata": {},
   "outputs": [],
   "source": [
    "def first_part(X_train, X_test, y_train, y_test):\n",
    "\n",
    "        model = Sequential()\n",
    "        model.add(Dense(10, input_shape=(784,)))\n",
    "        model.add(Activation('relu'))\n",
    "\n",
    "\n",
    "        model.add(Dense(10))\n",
    "        model.add(Activation('relu'))\n",
    "\n",
    "        model.add(Dense(10))\n",
    "        model.add(Activation('softmax'))\n",
    "\n",
    "\n",
    "\n",
    "        batch_size = 64\n",
    "        model.compile(optimizer=tf.keras.optimizers.SGD(lr=0.1),\n",
    "                      loss=\"sparse_categorical_crossentropy\",\n",
    "                      metrics=['accuracy'])\n",
    "\n",
    "        model.fit(X_train,y_train, batch_size=batch_size, epochs=10)\n",
    "\n",
    "\n",
    "\n",
    "        loss, accuracy = model.evaluate(X_test,y_test)\n",
    "        print(\"Accuracy for the starting part \",accuracy)\n",
    "        return (loss, accuracy)"
   ]
  },
  {
   "cell_type": "code",
   "execution_count": 4,
   "metadata": {},
   "outputs": [],
   "source": [
    "def second_part(X_train, X_test, y_train, y_test):\n",
    "    model = Sequential()\n",
    "    model.add(Dense(1024, input_shape=(784,)))\n",
    "    model.add(Activation('relu'))\n",
    "\n",
    "\n",
    "    model.add(Dense(512))\n",
    "    model.add(Activation('relu'))\n",
    "\n",
    "    model.add(Dense(512))\n",
    "    model.add(Activation('relu'))\n",
    "\n",
    "    model.add(Dense(10))\n",
    "    model.add(Activation('softmax'))\n",
    "\n",
    "    batch_size = 64\n",
    "    model.compile(optimizer=tf.keras.optimizers.SGD(lr=0.1),\n",
    "                  loss=\"sparse_categorical_crossentropy\",\n",
    "                  metrics=['accuracy'])\n",
    "\n",
    "    model.fit(X_train, y_train, batch_size=batch_size, epochs=18)\n",
    "\n",
    "    loss, accuracy = model.evaluate(X_test, y_test)\n",
    "    print(\"Accuracy for the Hyperparameter part \", accuracy)\n",
    "    return (loss,accuracy)\n"
   ]
  },
  {
   "cell_type": "code",
   "execution_count": 5,
   "metadata": {},
   "outputs": [
    {
     "name": "stdout",
     "output_type": "stream",
     "text": [
      "Epoch 1/10\n",
      "29400/29400 [==============================] - 1s 37us/step - loss: 0.8465 - accuracy: 0.7296\n",
      "Epoch 2/10\n",
      "29400/29400 [==============================] - 1s 34us/step - loss: 0.4149 - accuracy: 0.8743\n",
      "Epoch 3/10\n",
      "29400/29400 [==============================] - 1s 35us/step - loss: 0.3565 - accuracy: 0.8954\n",
      "Epoch 4/10\n",
      "29400/29400 [==============================] - 1s 33us/step - loss: 0.3224 - accuracy: 0.9023\n",
      "Epoch 5/10\n",
      "29400/29400 [==============================] - 1s 35us/step - loss: 0.3029 - accuracy: 0.9085\n",
      "Epoch 6/10\n",
      "29400/29400 [==============================] - 1s 33us/step - loss: 0.2860 - accuracy: 0.9127\n",
      "Epoch 7/10\n",
      "29400/29400 [==============================] - 1s 33us/step - loss: 0.2709 - accuracy: 0.9188\n",
      "Epoch 8/10\n",
      "29400/29400 [==============================] - 1s 33us/step - loss: 0.2572 - accuracy: 0.9230\n",
      "Epoch 9/10\n",
      "29400/29400 [==============================] - 1s 36us/step - loss: 0.2502 - accuracy: 0.9243\n",
      "Epoch 10/10\n",
      "29400/29400 [==============================] - 1s 40us/step - loss: 0.2431 - accuracy: 0.9265\n",
      "12600/12600 [==============================] - 0s 30us/step\n",
      "Accuracy for the starting part  0.9073016047477722\n",
      "/n\n",
      "======== Before =======\n",
      "Loss & Accuracy 0.3109849471232248 0.9073016047477722\n"
     ]
    }
   ],
   "source": [
    "bef_loss, bef_acc =  first_part(X_train, X_test, y_train, y_test)\n",
    "print('/n')\n",
    "print('======== Before =======')\n",
    "print('Loss & Accuracy', bef_loss, bef_acc )"
   ]
  },
  {
   "cell_type": "code",
   "execution_count": 6,
   "metadata": {},
   "outputs": [
    {
     "name": "stdout",
     "output_type": "stream",
     "text": [
      "Epoch 1/18\n",
      "29400/29400 [==============================] - 7s 227us/step - loss: 0.4185 - accuracy: 0.87700s - loss: 0.4269 - accura\n",
      "Epoch 2/18\n",
      "29400/29400 [==============================] - 7s 230us/step - loss: 0.1618 - accuracy: 0.9502\n",
      "Epoch 3/18\n",
      "29400/29400 [==============================] - 7s 229us/step - loss: 0.1060 - accuracy: 0.96800s\n",
      "Epoch 4/18\n",
      "29400/29400 [==============================] - 7s 250us/step - loss: 0.0760 - accuracy: 0.9763\n",
      "Epoch 5/18\n",
      "29400/29400 [==============================] - 7s 227us/step - loss: 0.0535 - accuracy: 0.9843\n",
      "Epoch 6/18\n",
      "29400/29400 [==============================] - 7s 222us/step - loss: 0.0387 - accuracy: 0.9886\n",
      "Epoch 7/18\n",
      "29400/29400 [==============================] - 7s 228us/step - loss: 0.0270 - accuracy: 0.9928\n",
      "Epoch 8/18\n",
      "29400/29400 [==============================] - 6s 221us/step - loss: 0.0191 - accuracy: 0.9952\n",
      "Epoch 9/18\n",
      "29400/29400 [==============================] - 7s 226us/step - loss: 0.0130 - accuracy: 0.9972\n",
      "Epoch 10/18\n",
      "29400/29400 [==============================] - 7s 225us/step - loss: 0.0082 - accuracy: 0.9988\n",
      "Epoch 11/18\n",
      "29400/29400 [==============================] - 7s 221us/step - loss: 0.0049 - accuracy: 0.99970s\n",
      "Epoch 12/18\n",
      "29400/29400 [==============================] - 7s 228us/step - loss: 0.0037 - accuracy: 0.9997\n",
      "Epoch 13/18\n",
      "29400/29400 [==============================] - 7s 221us/step - loss: 0.0026 - accuracy: 0.9999\n",
      "Epoch 14/18\n",
      "29400/29400 [==============================] - 7s 226us/step - loss: 0.0018 - accuracy: 1.0000\n",
      "Epoch 15/18\n",
      "29400/29400 [==============================] - 7s 223us/step - loss: 0.0015 - accuracy: 1.0000\n",
      "Epoch 16/18\n",
      "29400/29400 [==============================] - 7s 222us/step - loss: 0.0013 - accuracy: 1.0000\n",
      "Epoch 17/18\n",
      "29400/29400 [==============================] - 7s 229us/step - loss: 0.0011 - accuracy: 1.0000\n",
      "Epoch 18/18\n",
      "29400/29400 [==============================] - 7s 226us/step - loss: 0.0010 - accuracy: 1.0000\n",
      "12600/12600 [==============================] - 2s 147us/step\n",
      "Accuracy for the Hyperparameter part  0.9769047498703003\n",
      "======== After Parameter Tuning =======\n",
      "Loss & Accuracy 0.09898569554602589 0.9769047498703003\n"
     ]
    }
   ],
   "source": [
    "hyp_loss, hyp_acc = second_part(X_train, X_test, y_train, y_test)\n",
    "print('======== After Parameter Tuning =======')\n",
    "print('Loss & Accuracy', hyp_loss, hyp_acc )"
   ]
  },
  {
   "cell_type": "code",
   "execution_count": null,
   "metadata": {},
   "outputs": [],
   "source": []
  }
 ],
 "metadata": {
  "kernelspec": {
   "display_name": "Python 3",
   "language": "python",
   "name": "python3"
  },
  "language_info": {
   "codemirror_mode": {
    "name": "ipython",
    "version": 3
   },
   "file_extension": ".py",
   "mimetype": "text/x-python",
   "name": "python",
   "nbconvert_exporter": "python",
   "pygments_lexer": "ipython3",
   "version": "3.6.10"
  }
 },
 "nbformat": 4,
 "nbformat_minor": 4
}
