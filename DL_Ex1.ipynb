{
 "cells": [
  {
   "cell_type": "markdown",
   "metadata": {},
   "source": [
    "# Multilayer Percepton First exercise Panagiotis Tamvakidis"
   ]
  },
  {
   "cell_type": "code",
   "execution_count": 19,
   "metadata": {},
   "outputs": [],
   "source": [
    "import tensorflow as tf\n",
    "import keras as kr\n",
    "import matplotlib.pyplot as plt\n",
    "import numpy as np\n",
    "from sklearn.model_selection import train_test_split\n",
    "import pandas as pd\n",
    "from keras.models import Sequential, load_model\n",
    "from keras.layers.core import Dense, Dropout, Activation"
   ]
  },
  {
   "cell_type": "markdown",
   "metadata": {},
   "source": [
    "# Getting the data & Normalization\n",
    "After some tries I came with the result that I had to normalize the data after splitting them into train and test."
   ]
  },
  {
   "cell_type": "code",
   "execution_count": 20,
   "metadata": {},
   "outputs": [
    {
     "name": "stdout",
     "output_type": "stream",
     "text": [
      "X_train shape (29400, 784)\n",
      "y_train shape (29400,)\n",
      "X_test shape (12600, 784)\n",
      "y_test shape (12600,)\n"
     ]
    }
   ],
   "source": [
    "dataset = pd.read_csv('C:/Users/athanasis/Desktop/Semester_B/DEEP_LEARNING/digit_recognizer_dataset.csv', sep=',')\n",
    "label = dataset.iloc[:,0]\n",
    "\n",
    "features =  dataset.iloc[:,1:]\n",
    "X_train, X_test, y_train, y_test = train_test_split(features, label, test_size=0.30)\n",
    "\n",
    "print(\"X_train shape\", X_train.shape)\n",
    "print(\"y_train shape\", y_train.shape)\n",
    "print(\"X_test shape\", X_test.shape)\n",
    "print(\"y_test shape\", y_test.shape)\n",
    "\n",
    "X_train = X_train.astype('float32')\n",
    "X_test = X_test.astype('float32')\n",
    "# normalize to range 0-1\n",
    "X_train = X_train / 255.0\n",
    "X_test = X_test / 255.0\n",
    "# return normalized images"
   ]
  },
  {
   "cell_type": "markdown",
   "metadata": {},
   "source": [
    "# First Part of the exercise\n",
    "In this part is implemented the structure of the model as described in the given specs.\n",
    "The model was built with one hidden layer and with relu activation.\n",
    "The input shape (784) is calculated from the pixels from the length and width 28x28 =784.\n",
    "The number of epochs and batch as long as the shapes of the layers and the activation functions were specified according to the given specs."
   ]
  },
  {
   "cell_type": "code",
   "execution_count": 21,
   "metadata": {},
   "outputs": [],
   "source": [
    "def first_part(X_train, X_test, y_train, y_test):\n",
    "\n",
    "        model = Sequential()\n",
    "        model.add(Dense(10, input_shape=(784,)))\n",
    "        model.add(Activation('relu'))\n",
    "\n",
    "\n",
    "        model.add(Dense(10))\n",
    "        model.add(Activation('relu'))\n",
    "\n",
    "        model.add(Dense(10))\n",
    "        model.add(Activation('softmax'))\n",
    "\n",
    "\n",
    "\n",
    "        batch_size = 64\n",
    "        model.compile(optimizer=tf.keras.optimizers.SGD(lr=0.1),\n",
    "                      loss=\"sparse_categorical_crossentropy\",\n",
    "                      metrics=['accuracy'])\n",
    "\n",
    "        model.fit(X_train,y_train, batch_size=batch_size, epochs=10)\n",
    "\n",
    "\n",
    "\n",
    "        loss, accuracy = model.evaluate(X_test,y_test)\n",
    "        print(\"Accuracy for the starting part \",accuracy)\n",
    "        return (loss, accuracy)"
   ]
  },
  {
   "cell_type": "markdown",
   "metadata": {},
   "source": [
    "# Second Part Of the exercise\n",
    "In this part of the exercise there many changes in the structure of the model:\n",
    "\n",
    "\n",
    "    -A new hidden layer has added\n",
    "    -The batch size now is 16 \n",
    "    -Optimizer changed to Adagrad\n",
    "    -The input and the hidden layers now have more units (1024 ,512)\n",
    "    -For keras implementation the glorot_uniform (Xavier) weight initiallizer is the default. \n",
    "   "
   ]
  },
  {
   "cell_type": "code",
   "execution_count": 26,
   "metadata": {},
   "outputs": [],
   "source": [
    "def second_part(X_train, X_test, y_train, y_test):\n",
    "    model = Sequential()\n",
    "    model.add(Dense(1024, input_shape=(784,)))\n",
    "    model.add(Activation('relu'))\n",
    "\n",
    "\n",
    "    model.add(Dense(512))\n",
    "    model.add(Activation('relu'))\n",
    "\n",
    "    model.add(Dense(512))\n",
    "    model.add(Activation('relu'))\n",
    "\n",
    "    model.add(Dense(10))\n",
    "    model.add(Activation('softmax'))\n",
    "\n",
    "    batch_size = 64\n",
    "    model.compile(optimizer=tf.keras.optimizers.Adagrad(lr=0.07),\n",
    "                  loss=\"sparse_categorical_crossentropy\",\n",
    "                  metrics=['accuracy'])\n",
    "\n",
    "    hyp_hist = model.fit(X_train, y_train, batch_size=batch_size, epochs=22)\n",
    "\n",
    "    loss, accuracy = model.evaluate(X_test, y_test)\n",
    "    print(\"Accuracy for the Hyperparameter part \", accuracy)\n",
    "    return (loss,accuracy,hyp_hist)\n"
   ]
  },
  {
   "cell_type": "markdown",
   "metadata": {},
   "source": [
    "# Displaying the results of the first part of the exercise"
   ]
  },
  {
   "cell_type": "code",
   "execution_count": 23,
   "metadata": {},
   "outputs": [
    {
     "name": "stdout",
     "output_type": "stream",
     "text": [
      "Epoch 1/10\n",
      "29400/29400 [==============================] - 3s 93us/step - loss: 0.9393 - accuracy: 0.6929\n",
      "Epoch 2/10\n",
      "29400/29400 [==============================] - 3s 88us/step - loss: 0.4362 - accuracy: 0.8692\n",
      "Epoch 3/10\n",
      "29400/29400 [==============================] - 3s 96us/step - loss: 0.3540 - accuracy: 0.8959\n",
      "Epoch 4/10\n",
      "29400/29400 [==============================] - 3s 94us/step - loss: 0.3122 - accuracy: 0.9070\n",
      "Epoch 5/10\n",
      "29400/29400 [==============================] - 3s 88us/step - loss: 0.2922 - accuracy: 0.9148\n",
      "Epoch 6/10\n",
      "29400/29400 [==============================] - 3s 92us/step - loss: 0.2730 - accuracy: 0.9203\n",
      "Epoch 7/10\n",
      "29400/29400 [==============================] - 3s 96us/step - loss: 0.2611 - accuracy: 0.9243\n",
      "Epoch 8/10\n",
      "29400/29400 [==============================] - 3s 92us/step - loss: 0.2494 - accuracy: 0.9270\n",
      "Epoch 9/10\n",
      "29400/29400 [==============================] - 3s 106us/step - loss: 0.2394 - accuracy: 0.9314\n",
      "Epoch 10/10\n",
      "29400/29400 [==============================] - 3s 102us/step - loss: 0.2271 - accuracy: 0.9323\n",
      "12600/12600 [==============================] - 1s 84us/step\n",
      "Accuracy for the starting part  0.9210317730903625\n",
      "======== Before =======\n",
      "Loss  0.2639708485962853 & Accuracy  0.9210317730903625\n"
     ]
    }
   ],
   "source": [
    "bef_loss, bef_acc =  first_part(X_train, X_test, y_train, y_test)\n",
    "\n",
    "print('======== Before =======')\n",
    "print('Loss ',bef_loss ,'& Accuracy ', bef_acc )"
   ]
  },
  {
   "cell_type": "markdown",
   "metadata": {},
   "source": [
    "# Displaying the results of the second part of the exercise\n",
    "Afte the specific modifications of the model that described above, the accuracy of the model reaches much better results."
   ]
  },
  {
   "cell_type": "code",
   "execution_count": 27,
   "metadata": {},
   "outputs": [
    {
     "name": "stdout",
     "output_type": "stream",
     "text": [
      "Epoch 1/22\n",
      "29400/29400 [==============================] - 16s 532us/step - loss: 0.3504 - accuracy: 0.8917\n",
      "Epoch 2/22\n",
      "29400/29400 [==============================] - 16s 544us/step - loss: 0.1218 - accuracy: 0.9621\n",
      "Epoch 3/22\n",
      "29400/29400 [==============================] - 16s 529us/step - loss: 0.0734 - accuracy: 0.9774\n",
      "Epoch 4/22\n",
      "29400/29400 [==============================] - 16s 527us/step - loss: 0.0496 - accuracy: 0.9840\n",
      "Epoch 5/22\n",
      "29400/29400 [==============================] - 16s 560us/step - loss: 0.0314 - accuracy: 0.9907\n",
      "Epoch 6/22\n",
      "29400/29400 [==============================] - 16s 539us/step - loss: 0.0188 - accuracy: 0.9951\n",
      "Epoch 7/22\n",
      "29400/29400 [==============================] - 16s 539us/step - loss: 0.0139 - accuracy: 0.9965\n",
      "Epoch 8/22\n",
      "29400/29400 [==============================] - 16s 530us/step - loss: 0.0078 - accuracy: 0.9979\n",
      "Epoch 9/22\n",
      "29400/29400 [==============================] - 16s 534us/step - loss: 0.0027 - accuracy: 0.9997\n",
      "Epoch 10/22\n",
      "29400/29400 [==============================] - 16s 529us/step - loss: 0.0013 - accuracy: 0.9999\n",
      "Epoch 11/22\n",
      "29400/29400 [==============================] - 16s 533us/step - loss: 7.3180e-04 - accuracy: 1.0000\n",
      "Epoch 12/22\n",
      "29400/29400 [==============================] - 16s 529us/step - loss: 5.0434e-04 - accuracy: 1.0000\n",
      "Epoch 13/22\n",
      "29400/29400 [==============================] - 16s 533us/step - loss: 4.1092e-04 - accuracy: 1.0000\n",
      "Epoch 14/22\n",
      "29400/29400 [==============================] - 16s 532us/step - loss: 3.5693e-04 - accuracy: 1.0000\n",
      "Epoch 15/22\n",
      "29400/29400 [==============================] - 16s 545us/step - loss: 3.1472e-04 - accuracy: 1.0000\n",
      "Epoch 16/22\n",
      "29400/29400 [==============================] - 16s 535us/step - loss: 2.8085e-04 - accuracy: 1.0000\n",
      "Epoch 17/22\n",
      "29400/29400 [==============================] - 16s 532us/step - loss: 2.5385e-04 - accuracy: 1.0000\n",
      "Epoch 18/22\n",
      "29400/29400 [==============================] - 16s 533us/step - loss: 2.3267e-04 - accuracy: 1.0000\n",
      "Epoch 19/22\n",
      "29400/29400 [==============================] - 16s 532us/step - loss: 2.1304e-04 - accuracy: 1.0000\n",
      "Epoch 20/22\n",
      "29400/29400 [==============================] - 16s 541us/step - loss: 1.9892e-04 - accuracy: 1.0000\n",
      "Epoch 21/22\n",
      "29400/29400 [==============================] - 16s 557us/step - loss: 1.8506e-04 - accuracy: 1.0000\n",
      "Epoch 22/22\n",
      "29400/29400 [==============================] - 16s 538us/step - loss: 1.7270e-04 - accuracy: 1.0000\n",
      "12600/12600 [==============================] - 4s 325us/step\n",
      "Accuracy for the Hyperparameter part  0.9807936549186707\n",
      "History {'loss': [0.35036459480215904, 0.12175350589487625, 0.07337026040164792, 0.049640762393432514, 0.03144221727413182, 0.01880732880791231, 0.013898264085842283, 0.00780654001309454, 0.0027311564827825698, 0.0013425018502158576, 0.0007317957326850607, 0.0005043377742198214, 0.00041092209593586145, 0.0003569337354337822, 0.0003147238635930841, 0.0002808463126632819, 0.0002538495845624466, 0.0002326665139443488, 0.00021303762816016238, 0.0001989167714124224, 0.00018505896738022377, 0.00017270134554242994], 'accuracy': [0.89166665, 0.9621429, 0.97738093, 0.9840136, 0.9906803, 0.99510205, 0.9965306, 0.99792516, 0.9996939, 0.99989796, 1.0, 1.0, 1.0, 1.0, 1.0, 1.0, 1.0, 1.0, 1.0, 1.0, 1.0, 1.0]}\n",
      "======== After Parameter Tuning =======\n",
      "Loss  0.09333203754615199 & Accuracy  0.9807936549186707\n"
     ]
    }
   ],
   "source": [
    "hyp_loss, hyp_acc,hyp_hist = second_part(X_train, X_test, y_train, y_test)\n",
    "print(\"History\",hyp_hist.history)\n",
    "print('======== After Parameter Tuning =======')\n",
    "print('Loss ',hyp_loss ,'& Accuracy ', hyp_acc )\n"
   ]
  },
  {
   "cell_type": "code",
   "execution_count": 28,
   "metadata": {},
   "outputs": [
    {
     "data": {
      "image/png": "[encoded data removed]",
      "text/plain": [
       "<Figure size 432x288 with 1 Axes>"
      ]
     },
     "metadata": {
      "needs_background": "light"
     },
     "output_type": "display_data"
    }
   ],
   "source": [
    "plt.figure()\n",
    "plt.plot(np.arange(len(hyp_hist.history['loss'])), hyp_hist.history['loss'])\n",
    "plt.scatter(np.arange(len(hyp_hist.history['loss'])), hyp_hist.history['loss'])\n",
    "plt.xlabel(\"Time in epochs\")\n",
    "plt.ylabel(\"Loss\")\n",
    "plt.show()"
   ]
  },
  {
   "cell_type": "code",
   "execution_count": null,
   "metadata": {},
   "outputs": [],
   "source": []
  }
 ],
 "metadata": {
  "kernelspec": {
   "display_name": "Python 3",
   "language": "python",
   "name": "python3"
  },
  "language_info": {
   "codemirror_mode": {
    "name": "ipython",
    "version": 3
   },
   "file_extension": ".py",
   "mimetype": "text/x-python",
   "name": "python",
   "nbconvert_exporter": "python",
   "pygments_lexer": "ipython3",
   "version": "3.6.10"
  }
 },
 "nbformat": 4,
 "nbformat_minor": 4
}
